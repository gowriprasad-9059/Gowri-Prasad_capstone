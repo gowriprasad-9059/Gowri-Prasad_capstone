{
 "cells": [
  {
   "cell_type": "code",
   "execution_count": 1,
   "metadata": {},
   "outputs": [],
   "source": [
    "from pyspark.sql import SparkSession,SQLContext\n",
    "from pyspark import SparkContext\n",
    "\n"
   ]
  },
  {
   "cell_type": "code",
   "execution_count": 2,
   "metadata": {},
   "outputs": [],
   "source": [
    "sc = SparkContext('local','Spark SQL')\n",
    "Sqlcontext = SQLContext(sc)\n"
   ]
  },
  {
   "cell_type": "code",
   "execution_count": 3,
   "metadata": {},
   "outputs": [],
   "source": [
    "department = Sqlcontext.read.parquet(\"hdfs://nameservice1/user/anabig114227/prasad_captone/DEPARTMENT/364eef17-5f0b-48e2-986e-06988900c6a1.parquet\")\n"
   ]
  },
  {
   "cell_type": "code",
   "execution_count": 4,
   "metadata": {},
   "outputs": [
    {
     "name": "stdout",
     "output_type": "stream",
     "text": [
      "+-------+---------+\n",
      "|dept_no|dept_name|\n",
      "+-------+---------+\n",
      "|   d001|Marketing|\n",
      "|   d002|  Finance|\n",
      "+-------+---------+\n",
      "only showing top 2 rows\n",
      "\n"
     ]
    }
   ],
   "source": [
    "department.show(2)"
   ]
  },
  {
   "cell_type": "code",
   "execution_count": 5,
   "metadata": {},
   "outputs": [],
   "source": [
    "dept_EMPLOYEE = Sqlcontext.read.parquet(\"hdfs://nameservice1/user/anabig114227/prasad_captone/DEPT_EMPLOYEE/effcae4e-3d25-4ccc-9643-565a336250b3.parquet\")\n"
   ]
  },
  {
   "cell_type": "code",
   "execution_count": 6,
   "metadata": {},
   "outputs": [
    {
     "name": "stdout",
     "output_type": "stream",
     "text": [
      "+------+-------+\n",
      "|emp_no|dept_no|\n",
      "+------+-------+\n",
      "| 10001|   d005|\n",
      "| 10002|   d007|\n",
      "+------+-------+\n",
      "only showing top 2 rows\n",
      "\n"
     ]
    }
   ],
   "source": [
    "dept_EMPLOYEE.show(2)"
   ]
  },
  {
   "cell_type": "code",
   "execution_count": 7,
   "metadata": {},
   "outputs": [],
   "source": [
    "dept_MANAGER = Sqlcontext.read.parquet(\"hdfs://nameservice1/user/anabig114227/prasad_captone/DEPT_MANAGER/3ceabfa2-eeef-4fa9-83a8-9fe2178484ef.parquet\")\n"
   ]
  },
  {
   "cell_type": "code",
   "execution_count": 8,
   "metadata": {},
   "outputs": [
    {
     "name": "stdout",
     "output_type": "stream",
     "text": [
      "+-------+------+\n",
      "|dept_no|emp_no|\n",
      "+-------+------+\n",
      "|   d001|110022|\n",
      "|   d001|110039|\n",
      "+-------+------+\n",
      "only showing top 2 rows\n",
      "\n"
     ]
    }
   ],
   "source": [
    "dept_MANAGER.show(2)"
   ]
  },
  {
   "cell_type": "code",
   "execution_count": 9,
   "metadata": {},
   "outputs": [],
   "source": [
    "employees = Sqlcontext.read.parquet(\"hdfs://nameservice1/user/anabig114227/prasad_captone/EMPLOYEES/0a43d9eb-4f13-436a-be5b-bf90f54d5adc.parquet\")\n"
   ]
  },
  {
   "cell_type": "code",
   "execution_count": 10,
   "metadata": {},
   "outputs": [
    {
     "name": "stdout",
     "output_type": "stream",
     "text": [
      "+------+------------+----------+----------+---------+---+----------+--------------+-----------------------+-----+----------+\n",
      "|emp_no|emp_title_id|birth_date|first_name|last_name|sex| hire_date|no_of_projects|Last_performance_rating|left_| last_date|\n",
      "+------+------------+----------+----------+---------+---+----------+--------------+-----------------------+-----+----------+\n",
      "|\n",
      "|\n",
      "+------+------------+----------+----------+---------+---+----------+--------------+-----------------------+-----+----------+\n",
      "only showing top 2 rows\n",
      "\n"
     ]
    }
   ],
   "source": [
    "employees.show(2)"
   ]
  },
  {
   "cell_type": "code",
   "execution_count": 11,
   "metadata": {},
   "outputs": [],
   "source": [
    "Salaries = Sqlcontext.read.parquet(\"hdfs://nameservice1/user/anabig114227/prasad_captone/SALARIES/a1eaae9e-9fbd-46a0-8e82-979cfbe5c59e.parquet\")\n"
   ]
  },
  {
   "cell_type": "code",
   "execution_count": 12,
   "metadata": {},
   "outputs": [
    {
     "name": "stdout",
     "output_type": "stream",
     "text": [
      "+------+------+\n",
      "|emp_no|salary|\n",
      "+------+------+\n",
      "| 10001| 60117|\n",
      "| 10002| 65828|\n",
      "+------+------+\n",
      "only showing top 2 rows\n",
      "\n"
     ]
    }
   ],
   "source": [
    "Salaries.show(2)"
   ]
  },
  {
   "cell_type": "code",
   "execution_count": 13,
   "metadata": {},
   "outputs": [],
   "source": [
    "Titles = Sqlcontext.read.parquet(\"hdfs://nameservice1/user/anabig114227/prasad_captone/TITLES/7d8d8ba3-de58-4ce4-91c1-f0a8464316a2.parquet\")\n"
   ]
  },
  {
   "cell_type": "code",
   "execution_count": 14,
   "metadata": {},
   "outputs": [
    {
     "name": "stdout",
     "output_type": "stream",
     "text": [
      "+--------+----------+\n",
      "|title_id|     title|\n",
      "+--------+----------+\n",
      "|   e0001|Assistant |\n",
      "|   e0002|  Engineer|\n",
      "+--------+----------+\n",
      "only showing top 2 rows\n",
      "\n"
     ]
    }
   ],
   "source": [
    "Titles.show(2)"
   ]
  },
  {
   "cell_type": "code",
   "execution_count": 15,
   "metadata": {},
   "outputs": [],
   "source": [
    "department.createTempView(\"department_ptbl\")"
   ]
  },
  {
   "cell_type": "code",
   "execution_count": null,
   "metadata": {},
   "outputs": [],
   "source": [
    "dept_EMPLOYEE.createTempView(\"dept_employee_ptbl\")"
   ]
  },
  {
   "cell_type": "code",
   "execution_count": 17,
   "metadata": {},
   "outputs": [],
   "source": [
    "dept_MANAGER.createTempView(\"dept_manager_ptbl\")"
   ]
  },
  {
   "cell_type": "code",
   "execution_count": 18,
   "metadata": {},
   "outputs": [],
   "source": [
    "employees.createTempView(\"employees_ptbl\")"
   ]
  },
  {
   "cell_type": "code",
   "execution_count": 19,
   "metadata": {},
   "outputs": [],
   "source": [
    "Salaries.createTempView(\"salaries_ptbl\")"
   ]
  },
  {
   "cell_type": "code",
   "execution_count": 20,
   "metadata": {},
   "outputs": [],
   "source": [
    "Titles.createTempView(\"titles_ptbl\")"
   ]
  },
  {
   "cell_type": "code",
   "execution_count": 21,
   "metadata": {},
   "outputs": [],
   "source": [
    "a=Sqlcontext.sql(\"\"\"select * from department_ptbl\"\"\").toPandas()"
   ]
  },
  {
   "cell_type": "code",
   "execution_count": 22,
   "metadata": {},
   "outputs": [
    {
     "data": {
      "text/html": [
       "<div>\n",
       "<style scoped>\n",
       "    .dataframe tbody tr th:only-of-type {\n",
       "        vertical-align: middle;\n",
       "    }\n",
       "\n",
       "    .dataframe tbody tr th {\n",
       "        vertical-align: top;\n",
       "    }\n",
       "\n",
       "    .dataframe thead th {\n",
       "        text-align: right;\n",
       "    }\n",
       "</style>\n",
       "<table border=\"1\" class=\"dataframe\">\n",
       "  <thead>\n",
       "    <tr style=\"text-align: right;\">\n",
       "      <th></th>\n",
       "      <th>dept_no</th>\n",
       "      <th>dept_name</th>\n",
       "    </tr>\n",
       "  </thead>\n",
       "  <tbody>\n",
       "    <tr>\n",
       "      <th>0</th>\n",
       "      <td>d001</td>\n",
       "      <td>Marketing</td>\n",
       "    </tr>\n",
       "    <tr>\n",
       "      <th>1</th>\n",
       "      <td>d002</td>\n",
       "      <td>Finance</td>\n",
       "    </tr>\n",
       "    <tr>\n",
       "      <th>2</th>\n",
       "      <td>d003</td>\n",
       "      <td>Human Resources</td>\n",
       "    </tr>\n",
       "    <tr>\n",
       "      <th>3</th>\n",
       "      <td>d004</td>\n",
       "      <td>Production</td>\n",
       "    </tr>\n",
       "    <tr>\n",
       "      <th>4</th>\n",
       "      <td>d005</td>\n",
       "      <td>development</td>\n",
       "    </tr>\n",
       "    <tr>\n",
       "      <th>5</th>\n",
       "      <td>d006</td>\n",
       "      <td>Quality Management</td>\n",
       "    </tr>\n",
       "    <tr>\n",
       "      <th>6</th>\n",
       "      <td>d007</td>\n",
       "      <td>Sales</td>\n",
       "    </tr>\n",
       "    <tr>\n",
       "      <th>7</th>\n",
       "      <td>d008</td>\n",
       "      <td>Research</td>\n",
       "    </tr>\n",
       "    <tr>\n",
       "      <th>8</th>\n",
       "      <td>d009</td>\n",
       "      <td>Customer Service</td>\n",
       "    </tr>\n",
       "  </tbody>\n",
       "</table>\n",
       "</div>"
      ],
      "text/plain": [
       "  dept_no           dept_name\n",
       "0    d001           Marketing\n",
       "1    d002             Finance\n",
       "2    d003     Human Resources\n",
       "3    d004          Production\n",
       "4    d005         development\n",
       "5    d006  Quality Management\n",
       "6    d007               Sales\n",
       "7    d008            Research\n",
       "8    d009    Customer Service"
      ]
     },
     "execution_count": 22,
     "metadata": {},
     "output_type": "execute_result"
    }
   ],
   "source": [
    "a"
   ]
  },
  {
   "cell_type": "code",
   "execution_count": 23,
   "metadata": {},
   "outputs": [
    {
     "name": "stdout",
     "output_type": "stream",
     "text": [
      "+-------+---------+\n",
      "|dept_no|dept_name|\n",
      "+-------+---------+\n",
      "|   d001|Marketing|\n",
      "|   d002|  Finance|\n",
      "+-------+---------+\n",
      "only showing top 2 rows\n",
      "\n"
     ]
    }
   ],
   "source": [
    "Sqlcontext.sql(\"\"\"select * from department_ptbl\"\"\").show(2)"
   ]
  },
  {
   "cell_type": "code",
   "execution_count": 31,
   "metadata": {},
   "outputs": [
    {
     "name": "stdout",
     "output_type": "stream",
     "text": [
      "+------+---------+----------+---+------+\n",
      "|emp_no|last_name|first_name|sex|salary|\n",
      "+------+---------+----------+---+------+\n",
      "| 10001|  Facello|    Georgi|  M| 60117|\n",
      "| 10002|   Simmel|   Bezalel|  F| 65828|\n",
      "+------+---------+----------+---+------+\n",
      "only showing top 2 rows\n",
      "\n"
     ]
    }
   ],
   "source": [
    "--1.\n",
    "\n",
    "Sqlcontext.sql(\"\"\"select A.emp_no,last_name,first_name,sex,salary from employees_ptbl A\n",
    "join salaries_ptbl B on A.emp_no=B.emp_no\"\"\").show(2)"
   ]
  },
  {
   "cell_type": "code",
   "execution_count": null,
   "metadata": {},
   "outputs": [],
   "source": [
    "--2.\n",
    "\n",
    "Sqlcontext.sql(\"\"\"select first_name,last_name,hire_date from final_employees_ptbl\n",
    "where year(hire_date) = 1986\"\"\")"
   ]
  },
  {
   "cell_type": "code",
   "execution_count": null,
   "metadata": {},
   "outputs": [],
   "source": [
    "--3.\n",
    "\n",
    "Sqlcontext.sql(\"\"\"\"select A.dept_no,dept_name,A.emp_no,last_name,first_name from dept_manager_ptbl A\n",
    "join employees_ptbl B\n",
    "on A.emp_no=B.emp_no\n",
    "join department_ptbl C\n",
    "on A.dept_no=C.dept_no\"\"\").show(2)\n"
   ]
  },
  {
   "cell_type": "code",
   "execution_count": null,
   "metadata": {},
   "outputs": [],
   "source": [
    "--4.\n",
    "\n",
    "Sqlcontext.sql(\"\"\"select A.emp_no,last_name,first_name,dept_name\n",
    "from employees_ptbl A\n",
    "inner join dept_employee_ptbl B\n",
    "on A.emp_no = B.emp_no\n",
    "inner join department_ptbl C\n",
    "on B.dept_no = C.dept_no\"\"\")"
   ]
  },
  {
   "cell_type": "code",
   "execution_count": null,
   "metadata": {},
   "outputs": [],
   "source": [
    "--5.\n",
    "\n",
    "Sqlcontext.sql(\"\"\"select first_name,last_name,sex\n",
    "from employees_ptbl\n",
    "where first_name = 'Hercules' and last_name like 'B%'\"\"\")"
   ]
  },
  {
   "cell_type": "code",
   "execution_count": null,
   "metadata": {},
   "outputs": [],
   "source": [
    "--6.\n",
    "\n",
    "Sqlcontext.sql(\"\"\"select A.emp_no,last_name,first_name,dept_name \n",
    "from employees_ptbl A\n",
    "join dept_employee_ptbl B\n",
    "on A.emp_no = B.emp_no\n",
    "join department_ptbl C\n",
    "on B.dept_no = C.dept_no\n",
    "where C.dept_name = 'Sales'\"\"\")"
   ]
  },
  {
   "cell_type": "code",
   "execution_count": null,
   "metadata": {},
   "outputs": [],
   "source": [
    "--7.\n",
    "\n",
    "Sqlcontext.sql(\"\"\"select emp_no,last_name,first_name,dept_name\n",
    "from employees_ptbl\n",
    "join dept_employee_ptbl\n",
    "on dept_employee_ptbl.emp_no = dept_employee_ptbl.emp_no\n",
    "join department_ptbl\n",
    "on dept_employee_ptbl.dept_no = department_ptbl.dept_no\n",
    "where department_ptbl.dept_name = 'sales' or department_ptbl.dept_name = 'Development'\"\"\")"
   ]
  },
  {
   "cell_type": "code",
   "execution_count": null,
   "metadata": {},
   "outputs": [],
   "source": [
    "--8.\n",
    "\n",
    "Sqlcontext.sql(\"\"\"select last_name,count(*)\n",
    "from employees_ptbl\n",
    "group by last_name\n",
    "order by count(*) desc\"\"\")"
   ]
  },
  {
   "cell_type": "code",
   "execution_count": null,
   "metadata": {},
   "outputs": [],
   "source": [
    "Sqlcontext.sql(\"\"\"\"\"\")"
   ]
  },
  {
   "cell_type": "code",
   "execution_count": null,
   "metadata": {},
   "outputs": [],
   "source": [
    "\n",
    "\n",
    "employees = employees.select('emp_no','sex','no_of_projects','Last_performance_rating','left','title','dept_no',\n",
    "                          'salary','dept_name').toPandas()"
   ]
  },
  {
   "cell_type": "code",
   "execution_count": null,
   "metadata": {},
   "outputs": [],
   "source": [
    "--9.\n",
    "\n",
    "\n",
    "employees.salary.hist(bins = 10)\n",
    "\n"
   ]
  },
  {
   "cell_type": "code",
   "execution_count": null,
   "metadata": {},
   "outputs": [],
   "source": [
    "--10.\n",
    "\n",
    "data_table = employees.pivot_table(index='title',values = 'salary',aggfunc= 'mean').reset_index()\n",
    "plt.figure(figsize=(15,6))\n",
    "sns.barplot(data = data_table,x='title',y='salary')\n",
    "plt.show()"
   ]
  },
  {
   "cell_type": "code",
   "execution_count": null,
   "metadata": {},
   "outputs": [],
   "source": [
    "--11.\n",
    "\n",
    "Sqlcontext.sql(\"\"\"select emp_no,hire_date,last_date\n",
    "case when last_date is null then 2000 - year(hire_date) else  year(last_date)-year(hire_date) end as Tenure\n",
    "from emp_tbl\"\"\").show()"
   ]
  },
  {
   "cell_type": "code",
   "execution_count": null,
   "metadata": {},
   "outputs": [],
   "source": [
    "---own analysis{Percentage distribution of employees as per the Designation}\n",
    "--12.\n",
    "\n",
    "employees.groupby('title')['emp_no_s'].agg('count').plot(kind='pie',subplots=True,figsize=(12,7),autopct = '%1.4f%%')\n",
    "plt.show()\n"
   ]
  },
  {
   "cell_type": "code",
   "execution_count": null,
   "metadata": {},
   "outputs": [],
   "source": [
    "---Gender wise employee count for different departments\n",
    "--13.\n",
    "\n",
    "output1 = employees.pivot_table(index='dept_name', columns='sex', values='emp_no', aggfunc='count')\n",
    "#plt.figure(figsize=(10,4))\n",
    "output1.plot(kind='bar',figsize=(10,4))\n",
    "plt.xlabel(\"Department\")\n",
    "plt.ylabel(\"Employee Count\")"
   ]
  },
  {
   "cell_type": "code",
   "execution_count": null,
   "metadata": {},
   "outputs": [],
   "source": [
    "-- Department wise employee count\n",
    "--14.\n",
    "\n",
    "data_table = employees.pivot_table(index='dept_name',values = 'emp_no_s',aggfunc= 'count').reset_index()\n",
    "plt.figure(figsize=(15,6))\n",
    "sns.barplot(data = data_table,x='dept_name',y='emp_no_s',palette=\"Blues_d\")\n",
    "plt.show()"
   ]
  },
  {
   "cell_type": "code",
   "execution_count": null,
   "metadata": {},
   "outputs": [],
   "source": [
    "--Max, min, avg of salaries\n",
    "--15.\n",
    "\n",
    "employees.select(max('salary').alias('Max Salary'),min('salary').alias('Min Salary'),mean('salary').alias('Average Salary')).show()"
   ]
  },
  {
   "cell_type": "code",
   "execution_count": null,
   "metadata": {},
   "outputs": [],
   "source": [
    "--Department wise Left and working employee\n",
    "\n",
    "--16.\n",
    "\n",
    "employees.pivot_table(index='dept_name',columns='left_',values = 'emp_no',aggfunc= 'count').plot(kind='bar',figsize=(15,5))\n",
    "plt.show()"
   ]
  },
  {
   "cell_type": "markdown",
   "metadata": {},
   "source": [
    "# --ML"
   ]
  },
  {
   "cell_type": "code",
   "execution_count": null,
   "metadata": {},
   "outputs": [],
   "source": [
    "#emp_df\n",
    "employees = employees.join(titles,employees.emp_title_id == titles.title_id,\"rightouter\").join(dept_employee,employees.emp_no == dept_employee.de_emp_no,\"rightouter\").join(salaries,employees.emp_no == salaries.sl_emp_no,\"rightouter\")"
   ]
  },
  {
   "cell_type": "code",
   "execution_count": null,
   "metadata": {},
   "outputs": [],
   "source": [
    "employees.columns"
   ]
  },
  {
   "cell_type": "code",
   "execution_count": null,
   "metadata": {},
   "outputs": [],
   "source": [
    "#SELECT FEW COLUMNS FOR MY MODEL\n",
    "\n",
    "employees_final = employees.select('dept_no','sex','salary','no_of_projects','left','birth_date')"
   ]
  },
  {
   "cell_type": "code",
   "execution_count": null,
   "metadata": {},
   "outputs": [],
   "source": [
    "# Create a new column called \"age\" to calculate the age of employees\n",
    "employees_final = employees_final.withColumn('age',2000-year('birth_date'))"
   ]
  },
  {
   "cell_type": "code",
   "execution_count": null,
   "metadata": {},
   "outputs": [],
   "source": [
    "employees_final = employees_final.drop(\"birth_date\")"
   ]
  },
  {
   "cell_type": "code",
   "execution_count": null,
   "metadata": {},
   "outputs": [],
   "source": [
    "--Feature Engineering"
   ]
  },
  {
   "cell_type": "code",
   "execution_count": null,
   "metadata": {},
   "outputs": [],
   "source": [
    "employees_final.show(2)"
   ]
  },
  {
   "cell_type": "code",
   "execution_count": null,
   "metadata": {},
   "outputs": [],
   "source": [
    "#Encoding all categorical features\n",
    "from pyspark.ml.feature import OneHotEncoder, StringIndexer, VectorAssembler, PolynomialExpansion, VectorIndexer,OneHotEncoderEstimator"
   ]
  },
  {
   "cell_type": "code",
   "execution_count": null,
   "metadata": {},
   "outputs": [],
   "source": [
    "#Columns that will be used as features and their types\n",
    "continuous_features = ['salary', 'no_of_projects','age']\n",
    "\n",
    "categorical_features = ['dept_no', 'sex']"
   ]
  },
  {
   "cell_type": "code",
   "execution_count": null,
   "metadata": {},
   "outputs": [],
   "source": [
    "# create object of StringIndexer class and specify input and output column\n",
    "SI_de_dept = StringIndexer(inputCol='de_dept_no',outputCol='de_dept_Index')\n",
    "SI_sex = StringIndexer(inputCol='sex',outputCol='sex_Index')\n",
    "\n",
    "\n",
    "# transform the data\n",
    "employees_final = SI_de_dept.fit(employees_final).transform(employees_final)\n",
    "employees_final = SI_sex.fit(employees_final).transform(employees_final)\n",
    "\n",
    "# view and transform the data\n",
    "employees_final.show(2)"
   ]
  },
  {
   "cell_type": "code",
   "execution_count": null,
   "metadata": {},
   "outputs": [],
   "source": [
    "# create object and specify input and output column\n",
    "OHE = OneHotEncoderEstimator(inputCols=['de_dept_Index', 'sex_Index'],outputCols=['de_dept_Ohe', 'sex_Ohe'])\n",
    "# transform the data\n",
    "employees_final = OHE.fit(employees_final).transform(employees_final)\n",
    "\n",
    "# view and transform the data\n",
    "employees_final.show(2)"
   ]
  },
  {
   "cell_type": "code",
   "execution_count": null,
   "metadata": {},
   "outputs": [],
   "source": [
    "featurecols = continuous_features + ['de_dept_Ohe', 'sex_Ohe']"
   ]
  },
  {
   "cell_type": "code",
   "execution_count": null,
   "metadata": {},
   "outputs": [],
   "source": [
    "# Feature Column\n",
    "assembler = VectorAssembler(inputCols=featurecols,outputCol=\"features\")\n",
    "\n",
    "employees_final = assembler.transform(employees_final)"
   ]
  },
  {
   "cell_type": "code",
   "execution_count": null,
   "metadata": {},
   "outputs": [],
   "source": [
    "#Label Column\n",
    "\n",
    "employees_final = employees_final.withColumnRenamed(\"left_\",'label')\n",
    "employees_final = employees_final.withColumn(\"label\",emp_df_final.label.cast('int'))"
   ]
  },
  {
   "cell_type": "code",
   "execution_count": null,
   "metadata": {},
   "outputs": [],
   "source": [
    "---Train & Test Data"
   ]
  },
  {
   "cell_type": "code",
   "execution_count": null,
   "metadata": {},
   "outputs": [],
   "source": [
    "train_df,test_df = employees_final.randomSplit( [0.7, 0.3], seed = 42 )"
   ]
  },
  {
   "cell_type": "code",
   "execution_count": null,
   "metadata": {},
   "outputs": [],
   "source": [
    "#Build the Linear Regression Model\n",
    "from pyspark.ml.classification import LogisticRegression "
   ]
  },
  {
   "cell_type": "code",
   "execution_count": null,
   "metadata": {},
   "outputs": [],
   "source": [
    "logrg = LogisticRegression(featuresCol= 'features',labelCol='label',maxIter=5)"
   ]
  },
  {
   "cell_type": "code",
   "execution_count": null,
   "metadata": {},
   "outputs": [],
   "source": [
    "lr = logrg.fit(train_df)"
   ]
  },
  {
   "cell_type": "code",
   "execution_count": null,
   "metadata": {},
   "outputs": [],
   "source": [
    "lr.intercept"
   ]
  },
  {
   "cell_type": "code",
   "execution_count": null,
   "metadata": {},
   "outputs": [],
   "source": [
    "lr.coefficients"
   ]
  },
  {
   "cell_type": "code",
   "execution_count": null,
   "metadata": {},
   "outputs": [],
   "source": [
    "y_pred_test = lr.transform(test_df)"
   ]
  },
  {
   "cell_type": "code",
   "execution_count": null,
   "metadata": {},
   "outputs": [],
   "source": [
    "y_pred_train = lr.transform(train_df)"
   ]
  },
  {
   "cell_type": "code",
   "execution_count": null,
   "metadata": {},
   "outputs": [],
   "source": [
    "y_pred_train.select('features','label','rawPrediction','probability','prediction').toPandas().head()"
   ]
  },
  {
   "cell_type": "code",
   "execution_count": null,
   "metadata": {},
   "outputs": [],
   "source": [
    "from pyspark.ml.evaluation import BinaryClassificationEvaluator"
   ]
  },
  {
   "cell_type": "code",
   "execution_count": null,
   "metadata": {},
   "outputs": [],
   "source": [
    "evaluator = BinaryClassificationEvaluator()"
   ]
  },
  {
   "cell_type": "code",
   "execution_count": null,
   "metadata": {},
   "outputs": [],
   "source": [
    "evaluator.evaluate(y_pred_test)"
   ]
  },
  {
   "cell_type": "code",
   "execution_count": null,
   "metadata": {},
   "outputs": [],
   "source": [
    "---Accuracy\n"
   ]
  },
  {
   "cell_type": "code",
   "execution_count": null,
   "metadata": {},
   "outputs": [],
   "source": [
    "y_pred_test.filter(y_pred_test.label == y_pred_test.prediction).count() / float(y_pred_test.count())"
   ]
  },
  {
   "cell_type": "markdown",
   "metadata": {},
   "source": [
    "# PipeLine"
   ]
  },
  {
   "cell_type": "code",
   "execution_count": null,
   "metadata": {},
   "outputs": [],
   "source": [
    "#Columns that will be used as features and their types\n",
    "continuous_features = ['salary', 'no_of_projects','age']\n",
    "\n",
    "categorical_features = ['de_dept_no', 'sex']"
   ]
  },
  {
   "cell_type": "code",
   "execution_count": null,
   "metadata": {},
   "outputs": [],
   "source": [
    "indexers = [StringIndexer(inputCol=c, outputCol=\"{}_idx\".format(c)) for c in categorical_features]"
   ]
  },
  {
   "cell_type": "code",
   "execution_count": null,
   "metadata": {},
   "outputs": [],
   "source": [
    "indexers"
   ]
  },
  {
   "cell_type": "code",
   "execution_count": null,
   "metadata": {},
   "outputs": [],
   "source": [
    "from pyspark.ml.feature import StringIndexer, OneHotEncoder, VectorAssembler,OneHotEncoderEstimator\n",
    "from pyspark.ml import Pipeline\n",
    "from pyspark.ml.classification import LogisticRegression\n",
    "\n",
    "## Create indexers for the categorical features\n",
    "indexers = [StringIndexer(inputCol=c, outputCol=\"{}_idx\".format(c)) for c in categorical_features]\n",
    "\n",
    "## encode the categorical features\n",
    "encoders = [ OneHotEncoderEstimator(\n",
    "      inputCols=idx.getOutputCol(),\n",
    "      outputCols=\"{0}_enc\".format(idx.getOutputCol())) for idx in indexers]\n",
    "\n",
    "## Create vectors for all features categorical and continuous\n",
    "\n",
    "assembler = VectorAssembler(\n",
    "  inputCols=[enc.getOutputCol() for enc in encoders] + continuous_features,\n",
    "  outputCol=\"features\")\n",
    "\n",
    "## Initialize the linear model\n",
    "lrModel = LinearRegression( maxIter = 10 )\n",
    "\n",
    "\n",
    "## Create the pipeline with sequence of activities\n",
    "#pipeline = Pipeline( stages=indexers + encoders + [assembler, lrModel ])\n",
    "\n",
    "pipeline = Pipeline( stages= [indexers, encoders, assembler, lrModel ])"
   ]
  },
  {
   "cell_type": "code",
   "execution_count": null,
   "metadata": {},
   "outputs": [],
   "source": [
    "#Label Column\n",
    "employees_final = employees_final.withColumnRenamed(\"left_\",'label')\n",
    "employees_final = employees_final.withColumn(\"label\",employees_final.label.cast('int'))"
   ]
  },
  {
   "cell_type": "code",
   "execution_count": null,
   "metadata": {},
   "outputs": [],
   "source": [
    "training, testing = housing_pipeline_df.randomSplit( [0.7, 0.3], seed = 42 )"
   ]
  },
  {
   "cell_type": "code",
   "execution_count": null,
   "metadata": {},
   "outputs": [],
   "source": [
    "model = pipeline.fit( training )"
   ]
  },
  {
   "cell_type": "code",
   "execution_count": null,
   "metadata": {},
   "outputs": [],
   "source": [
    "y_pred_train = model.transform(training)"
   ]
  }
 ],
 "metadata": {
  "kernelspec": {
   "display_name": "Python 3",
   "language": "python",
   "name": "python3"
  },
  "language_info": {
   "codemirror_mode": {
    "name": "ipython",
    "version": 3
   },
   "file_extension": ".py",
   "mimetype": "text/x-python",
   "name": "python",
   "nbconvert_exporter": "python",
   "pygments_lexer": "ipython3",
   "version": "3.7.6"
  }
 },
 "nbformat": 4,
 "nbformat_minor": 4
}
